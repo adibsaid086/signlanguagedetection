{
 "cells": [
  {
   "cell_type": "markdown",
   "id": "3ac4744c",
   "metadata": {},
   "source": [
    "# install related module"
   ]
  },
  {
   "cell_type": "code",
   "execution_count": null,
   "id": "3c3b3538",
   "metadata": {},
   "outputs": [],
   "source": [
    "!pip install tensorflow\n",
    "!pip install opencv-python\n",
    "!pip install mediapipe\n",
    "\n",
    "print(\"-end of code-\")"
   ]
  }
 ],
 "metadata": {
  "kernelspec": {
   "display_name": "Python 3 (ipykernel)",
   "language": "python",
   "name": "python3"
  },
  "language_info": {
   "codemirror_mode": {
    "name": "ipython",
    "version": 3
   },
   "file_extension": ".py",
   "mimetype": "text/x-python",
   "name": "python",
   "nbconvert_exporter": "python",
   "pygments_lexer": "ipython3",
   "version": "3.10.9"
  }
 },
 "nbformat": 4,
 "nbformat_minor": 5
}
