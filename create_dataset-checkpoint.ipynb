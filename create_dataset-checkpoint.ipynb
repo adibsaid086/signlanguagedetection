{
 "cells": [
  {
   "cell_type": "markdown",
   "id": "f1993b1f",
   "metadata": {},
   "source": [
    "# Impoting Libraries"
   ]
  },
  {
   "cell_type": "code",
   "execution_count": 18,
   "id": "ae7b1dd9",
   "metadata": {
    "scrolled": true
   },
   "outputs": [],
   "source": [
    "import os\n",
    "import pickle\n",
    "import mediapipe as mp\n",
    "import cv2\n",
    "import matplotlib.pyplot as plt"
   ]
  },
  {
   "cell_type": "markdown",
   "id": "6bebb6a6",
   "metadata": {},
   "source": [
    "# Hand tracking and drawing pipeline"
   ]
  },
  {
   "cell_type": "code",
   "execution_count": 19,
   "id": "111e118f",
   "metadata": {},
   "outputs": [],
   "source": [
    "mp_hands = mp.solutions.hands\n",
    "mp_drawing = mp.solutions.drawing_utils\n",
    "mp_drawing_styles = mp.solutions.drawing_styles\n",
    "\n",
    "hands = mp_hands.Hands(static_image_mode=True, min_detection_confidence=0.3)"
   ]
  },
  {
   "cell_type": "markdown",
   "id": "90bd02b5",
   "metadata": {},
   "source": [
    "# Path Declaration"
   ]
  },
  {
   "cell_type": "code",
   "execution_count": 20,
   "id": "4a5cfa2f",
   "metadata": {},
   "outputs": [],
   "source": [
    "DATA_DIR = './data'\n",
    "\n",
    "data = []\n",
    "labels = []"
   ]
  },
  {
   "cell_type": "markdown",
   "id": "94881a18",
   "metadata": {},
   "source": [
    "# Detect hand and Draw landmark (.png)"
   ]
  },
  {
   "cell_type": "code",
   "execution_count": 21,
   "id": "2a75c893",
   "metadata": {},
   "outputs": [],
   "source": [
    "for dir_ in os.listdir(DATA_DIR):\n",
    "    dir_path = os.path.join(DATA_DIR, dir_)\n",
    "    if os.path.isdir(dir_path):\n",
    "        for img_path in os.listdir(dir_path):\n",
    "            img_file = os.path.join(dir_path, img_path)\n",
    "            if os.path.isfile(img_file):\n",
    "                data_aux = []\n",
    "                x_ = []\n",
    "                y_ = []\n",
    "\n",
    "                img = cv2.imread(img_file)\n",
    "                img_rgb = cv2.cvtColor(img, cv2.COLOR_BGR2RGB)\n",
    "\n",
    "                results = hands.process(img_rgb)\n",
    "                if results.multi_hand_landmarks:\n",
    "                    for hand_landmarks in results.multi_hand_landmarks:\n",
    "                        for i in range(len(hand_landmarks.landmark)):\n",
    "                            x = hand_landmarks.landmark[i].x\n",
    "                            y = hand_landmarks.landmark[i].y\n",
    "                            x_.append(x)\n",
    "                            y_.append(y)\n",
    "\n",
    "                    for i in range(len(hand_landmarks.landmark)):\n",
    "                        x = hand_landmarks.landmark[i].x\n",
    "                        y = hand_landmarks.landmark[i].y\n",
    "                        data_aux.append(x - min(x_))\n",
    "                        data_aux.append(y - min(y_))\n",
    "\n",
    "                data.append(data_aux)\n",
    "                labels.append(dir_)"
   ]
  },
  {
   "cell_type": "markdown",
   "id": "6e3ac329",
   "metadata": {},
   "source": [
    "# Write data and label in .pickel"
   ]
  },
  {
   "cell_type": "code",
   "execution_count": 25,
   "id": "5f8f4a92",
   "metadata": {},
   "outputs": [
    {
     "data": {
      "text/plain": [
       "\"\\nf = open('Data.pickle', 'wb')\\npickle.dump({'data':data},f)\\nf.close()\\n\\nf = open('Labels.pickle','wb')\\npickle.dump({'labels': labels},f)\\nf.close()\\n\""
      ]
     },
     "execution_count": 25,
     "metadata": {},
     "output_type": "execute_result"
    }
   ],
   "source": [
    "f = open('data.pickle', 'wb')\n",
    "pickle.dump({'data': data, 'labels': labels}, f)\n",
    "f.close()"
   ]
  },
  {
   "cell_type": "code",
   "execution_count": null,
   "id": "80b689db",
   "metadata": {},
   "outputs": [],
   "source": [
    "\n"
   ]
  },
  {
   "cell_type": "code",
   "execution_count": null,
   "id": "a4caf2e8",
   "metadata": {},
   "outputs": [],
   "source": []
  }
 ],
 "metadata": {
  "kernelspec": {
   "display_name": "Python 3 (ipykernel)",
   "language": "python",
   "name": "python3"
  },
  "language_info": {
   "codemirror_mode": {
    "name": "ipython",
    "version": 3
   },
   "file_extension": ".py",
   "mimetype": "text/x-python",
   "name": "python",
   "nbconvert_exporter": "python",
   "pygments_lexer": "ipython3",
   "version": "3.10.9"
  }
 },
 "nbformat": 4,
 "nbformat_minor": 5
}
