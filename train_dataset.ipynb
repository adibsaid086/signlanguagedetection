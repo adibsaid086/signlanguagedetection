{
 "cells": [
  {
   "cell_type": "markdown",
   "id": "9f8a2f88",
   "metadata": {},
   "source": [
    "# Importing Libraries"
   ]
  },
  {
   "cell_type": "code",
   "execution_count": 1,
   "id": "0fafd108",
   "metadata": {},
   "outputs": [],
   "source": [
    "import pickle\n",
    "import numpy as np\n",
    "from sklearn.ensemble import RandomForestClassifier\n",
    "from sklearn.model_selection import train_test_split\n",
    "from sklearn.metrics import accuracy_score"
   ]
  },
  {
   "cell_type": "markdown",
   "id": "a4bdf9f3",
   "metadata": {},
   "source": [
    "# Read .pickle file"
   ]
  },
  {
   "cell_type": "code",
   "execution_count": 2,
   "id": "1ef5aea4",
   "metadata": {
    "scrolled": false
   },
   "outputs": [],
   "source": [
    "data_dict = pickle.load(open('./data.pickle', 'rb'))\n",
    "data = np.asarray(data_dict['data'],dtype=object)\n",
    "labels = np.asarray(data_dict['labels'],dtype=object)"
   ]
  },
  {
   "cell_type": "markdown",
   "id": "93200e22",
   "metadata": {},
   "source": [
    "# Train Dataset"
   ]
  },
  {
   "cell_type": "code",
   "execution_count": 3,
   "id": "0c52c1ee",
   "metadata": {
    "scrolled": true
   },
   "outputs": [
    {
     "name": "stdout",
     "output_type": "stream",
     "text": [
      "Accuracy: 100.00%\n"
     ]
    }
   ],
   "source": [
    "# Split the data into training and test sets\n",
    "# <-- Changed `test_size` to `0.2`\n",
    "x_train, x_test, y_train, y_test = train_test_split(data, labels, test_size=0.2, shuffle=True, stratify=labels)\n",
    "\n",
    "# Create a Random Forest classifier\n",
    "model = RandomForestClassifier()\n",
    "\n",
    "# Fit the model to the training data\n",
    "model.fit(x_train, y_train)\n",
    "\n",
    "# Predict the labels for the test data\n",
    "y_predict = model.predict(x_test)\n",
    "\n",
    "# Calculate the accuracy score\n",
    "# <-- Changed `print()` to `score =`\n",
    "score = accuracy_score(y_predict, y_test)\n",
    "\n",
    "# Print the accuracy score\n",
    "print(\"Accuracy: {:.2f}%\".format(score * 100))\n"
   ]
  },
  {
   "cell_type": "markdown",
   "id": "ee97951c",
   "metadata": {},
   "source": [
    "# Write / Create model in .pickle"
   ]
  },
  {
   "cell_type": "code",
   "execution_count": 4,
   "id": "a8a63c88",
   "metadata": {},
   "outputs": [],
   "source": [
    "f = open('model.p', 'wb')\n",
    "pickle.dump({'model': model}, f)\n",
    "f.close()"
   ]
  },
  {
   "cell_type": "code",
   "execution_count": null,
   "id": "a068d56d",
   "metadata": {},
   "outputs": [],
   "source": []
  }
 ],
 "metadata": {
  "kernelspec": {
   "display_name": "Python 3 (ipykernel)",
   "language": "python",
   "name": "python3"
  },
  "language_info": {
   "codemirror_mode": {
    "name": "ipython",
    "version": 3
   },
   "file_extension": ".py",
   "mimetype": "text/x-python",
   "name": "python",
   "nbconvert_exporter": "python",
   "pygments_lexer": "ipython3",
   "version": "3.11.3"
  }
 },
 "nbformat": 4,
 "nbformat_minor": 5
}
